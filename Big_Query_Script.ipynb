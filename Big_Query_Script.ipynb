{
 "cells": [
  {
   "cell_type": "markdown",
   "metadata": {},
   "source": [
    "## Importing"
   ]
  },
  {
   "cell_type": "code",
   "execution_count": 1,
   "metadata": {},
   "outputs": [],
   "source": [
    "from google.cloud import bigquery\n",
    "\n",
    "from open_patstat.utils.gcp import create_table, load_gcs_file, delete_table\n",
    "from open_patstat.utils.schema import Schema"
   ]
  },
  {
   "cell_type": "markdown",
   "metadata": {},
   "source": [
    "## Initializing the Client anf Job Config"
   ]
  },
  {
   "cell_type": "code",
   "execution_count": 2,
   "metadata": {},
   "outputs": [],
   "source": [
    "# Before running this line, make sure that you have defined the environment variable...\n",
    "# ...\"GOOGLE_APPLICATION_CREDENTIALS\" which points to the JSON file containing authentication key\n",
    "client = bigquery.Client()"
   ]
  },
  {
   "cell_type": "code",
   "execution_count": 3,
   "metadata": {},
   "outputs": [],
   "source": [
    "# Initializing the Job_config\n",
    "job_config = bigquery.LoadJobConfig()\n",
    "job_config.skip_leading_rows = 1\n",
    "job_config.max_bad_records = 10\n",
    "job_config.source_format = bigquery.SourceFormat.CSV\n",
    "dataset_ref = client.dataset('patstat')"
   ]
  },
  {
   "cell_type": "markdown",
   "metadata": {},
   "source": [
    "## Creating and Adding Tables"
   ]
  },
  {
   "cell_type": "code",
   "execution_count": 5,
   "metadata": {},
   "outputs": [
    {
     "name": "stdout",
     "output_type": "stream",
     "text": [
      "THIS TABLE ALREADY EXISTS IN usptobias:patstat\n",
      "Starting job lgs-e7a199fb-6418-4bd3-be08-cdaa5bf076aa\n",
      "Job took 415.05570363998413 seconds\n"
     ]
    }
   ],
   "source": [
    "########## Creating and Loading tables ##########\n",
    "#################################################\n",
    "\n",
    "# Tables list to be loaded\n",
    "tables_list = ['tls201', 'tls209', 'tls204', 'tls207', 'tls206', 'tls211', 'tls212']\n",
    "\n",
    "# Google Bucket directory address, which contains all data files\n",
    "gs_add = 'gs://patstat_2018g/data_PATSTAT_Global_2018_Autumn/'\n",
    "\n",
    "# Loading the tables in the list\n",
    "for table in tables_list:\n",
    "    # Creating the table\n",
    "    create_table(client,\n",
    "             dataset_id='patstat',\n",
    "             table_id=table,\n",
    "             schema=getattr(Schema(),table))\n",
    "    # Adding files to the table from GCP bucket\n",
    "    table_ref = dataset_ref.table(table)\n",
    "    job_config.schema = getattr(Schema(),table)\n",
    "    load_gcs_file(client, gs_add+table+'_*.gz', \n",
    "                  table_ref, job_config)"
   ]
  }
 ],
 "metadata": {
  "kernelspec": {
   "display_name": "Python 3",
   "language": "python",
   "name": "python3"
  },
  "language_info": {
   "codemirror_mode": {
    "name": "ipython",
    "version": 3
   },
   "file_extension": ".py",
   "mimetype": "text/x-python",
   "name": "python",
   "nbconvert_exporter": "python",
   "pygments_lexer": "ipython3",
   "version": "3.7.2"
  }
 },
 "nbformat": 4,
 "nbformat_minor": 2
}
